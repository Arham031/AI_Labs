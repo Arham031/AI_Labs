{
 "cells": [
  {
   "cell_type": "markdown",
   "id": "e1f8ced0",
   "metadata": {},
   "source": [
    "## LAB No. 04"
   ]
  },
  {
   "cell_type": "markdown",
   "id": "ff1e522b",
   "metadata": {},
   "source": [
    "### Task_1"
   ]
  },
  {
   "cell_type": "markdown",
   "id": "721f988b",
   "metadata": {},
   "source": [
    "Write a Python program to sort Counter by value.\n",
    "Sample data: {'Math':81, 'Physics':83, 'Chemistry':87}\n",
    "Expected data: [('Chemistry', 87), ('Physics', 83), ('Math', 81)]\n"
   ]
  },
  {
   "cell_type": "code",
   "execution_count": 1,
   "id": "a76e598a",
   "metadata": {},
   "outputs": [
    {
     "name": "stdout",
     "output_type": "stream",
     "text": [
      "[('Chemistry', 87), ('Physics', 83), ('Math', 81)]\n"
     ]
    }
   ],
   "source": [
    "from collections import Counter\n",
    "\n",
    "# Sample data\n",
    "data = {'Math': 81, 'Physics': 83, 'Chemistry': 87}\n",
    "\n",
    "# Create a Counter object\n",
    "counter = Counter(data)\n",
    "\n",
    "# Sort the Counter by value in descending order\n",
    "sorted_counter = sorted(counter.items(), key=lambda x: x[1], reverse=True)\n",
    "\n",
    "# Print the sorted data\n",
    "print(sorted_counter)\n"
   ]
  },
  {
   "cell_type": "markdown",
   "id": "e64284d6",
   "metadata": {},
   "source": [
    "### Task_2"
   ]
  },
  {
   "cell_type": "markdown",
   "id": "3a807603",
   "metadata": {},
   "source": [
    "Write a Python program to store dictionary data in a JSON file.\n",
    "Original dictionary:\n",
    "{'students': [{'firstName': 'Nikki', 'lastName': 'Roysden'}, {'firstName': 'Mervin', 'lastName': 'Friedland'}, {'firstName': 'Aron ', 'lastName': 'Wilkins'}], 'teachers': [{'firstName': 'Amberly', 'lastName': 'Calico'}, {'firstName': 'Regine', 'lastName': 'Agtarap'}]}\n",
    "<class 'dict'>\n",
    "Json file to dictionary:\n",
    "{'students': [{'firstName': 'Nikki', 'lastName': 'Roysden'}, {'firstName': 'Mervin', 'lastName': 'Friedland'}, {'firstName': 'Aron ', 'lastName': 'Wilkins'}], 'teachers': [{'firstName': 'Amberly', 'lastName': 'Calico'}, {'firstName': 'Regine', 'lastName': 'Agtarap'}]}\n"
   ]
  },
  {
   "cell_type": "code",
   "execution_count": 2,
   "id": "b10a6451",
   "metadata": {},
   "outputs": [
    {
     "name": "stdout",
     "output_type": "stream",
     "text": [
      "{'students': [{'firstName': 'Nikki', 'lastName': 'Roysden'}, {'firstName': 'Mervin', 'lastName': 'Friedland'}, {'firstName': 'Aron ', 'lastName': 'Wilkins'}], 'teachers': [{'firstName': 'Amberly', 'lastName': 'Calico'}, {'firstName': 'Regine', 'lastName': 'Agtarap'}]}\n"
     ]
    }
   ],
   "source": [
    "import json\n",
    "\n",
    "# Original dictionary\n",
    "original_dict = {\n",
    "    'students': [\n",
    "        {'firstName': 'Nikki', 'lastName': 'Roysden'},\n",
    "        {'firstName': 'Mervin', 'lastName': 'Friedland'},\n",
    "        {'firstName': 'Aron ', 'lastName': 'Wilkins'}\n",
    "    ],\n",
    "    'teachers': [\n",
    "        {'firstName': 'Amberly', 'lastName': 'Calico'},\n",
    "        {'firstName': 'Regine', 'lastName': 'Agtarap'}\n",
    "    ]\n",
    "}\n",
    "\n",
    "# Convert dictionary to JSON string\n",
    "json_data = json.dumps(original_dict, indent=4)\n",
    "\n",
    "# Write JSON data to a file\n",
    "with open('data.json', 'w') as json_file:\n",
    "    json_file.write(json_data)\n",
    "\n",
    "# Read JSON data from the file (for verification)\n",
    "with open('data.json', 'r') as json_file:\n",
    "    loaded_dict = json.load(json_file)\n",
    "\n",
    "# Print the loaded dictionary\n",
    "print(loaded_dict)\n"
   ]
  },
  {
   "cell_type": "markdown",
   "id": "8616fcd6",
   "metadata": {},
   "source": [
    "### Task_3"
   ]
  },
  {
   "cell_type": "markdown",
   "id": "73eada07",
   "metadata": {},
   "source": [
    "Write a Python program to remove a specified dictionary from a given list.\n",
    "Original list of dictionary:\n",
    "[{'id': '#FF0000', 'color': 'Red'}, {'id': '#800000', 'color': 'Maroon'}, {'id': '#FFFF00', 'color': 'Yellow'}, {'id': '#808000', 'color': 'Olive'}]\n",
    "Remove id #FF0000 from the said list of dictionary:\n",
    "[{'id': '#800000', 'color': 'Maroon'}, {'id': '#FFFF00', 'color': 'Yellow'}, {'id': '#808000', 'color': 'Olive'}]\n"
   ]
  },
  {
   "cell_type": "code",
   "execution_count": 3,
   "id": "58b91367",
   "metadata": {},
   "outputs": [
    {
     "name": "stdout",
     "output_type": "stream",
     "text": [
      "Original list of dictionary:\n",
      "[{'id': '#FF0000', 'color': 'Red'}, {'id': '#800000', 'color': 'Maroon'}, {'id': '#FFFF00', 'color': 'Yellow'}, {'id': '#808000', 'color': 'Olive'}]\n",
      "Remove id #FF0000 from the said list of dictionary:\n",
      "[{'id': '#800000', 'color': 'Maroon'}, {'id': '#FFFF00', 'color': 'Yellow'}, {'id': '#808000', 'color': 'Olive'}]\n"
     ]
    }
   ],
   "source": [
    "def remove_dict_by_id(input_list, id_to_remove):\n",
    "    return [d for d in input_list if d.get('id') != id_to_remove]\n",
    "\n",
    "# Original list of dictionaries\n",
    "original_list = [\n",
    "    {'id': '#FF0000', 'color': 'Red'},\n",
    "    {'id': '#800000', 'color': 'Maroon'},\n",
    "    {'id': '#FFFF00', 'color': 'Yellow'},\n",
    "    {'id': '#808000', 'color': 'Olive'}\n",
    "]\n",
    "\n",
    "# Specify the id to remove\n",
    "id_to_remove = '#FF0000'\n",
    "\n",
    "# Remove the specified dictionary\n",
    "updated_list = remove_dict_by_id(original_list, id_to_remove)\n",
    "\n",
    "# Print the updated list\n",
    "print(\"Original list of dictionary:\")\n",
    "print(original_list)\n",
    "print(f\"Remove id {id_to_remove} from the said list of dictionary:\")\n",
    "print(updated_list)\n"
   ]
  },
  {
   "cell_type": "markdown",
   "id": "c186d0f8",
   "metadata": {},
   "source": [
    "### Task_4"
   ]
  },
  {
   "cell_type": "markdown",
   "id": "16633149",
   "metadata": {},
   "source": [
    "Write a program (using functions!) that asks the user for a long string containing multiple words. Print back to the user the same string, except with the words in backwards order. For example, Input: I live in Pakistan. Output: Pakistan in live I"
   ]
  },
  {
   "cell_type": "code",
   "execution_count": 4,
   "id": "d34f0470",
   "metadata": {},
   "outputs": [
    {
     "name": "stdout",
     "output_type": "stream",
     "text": [
      "Enter a long string containing multiple words: My name is Arham\n",
      "Reversed string with words in backwards order:\n",
      "Arham is name My\n"
     ]
    }
   ],
   "source": [
    "def reverse_words_order(input_string):\n",
    "    words = input_string.split()\n",
    "    reversed_words = ' '.join(reversed(words))\n",
    "    return reversed_words\n",
    "\n",
    "# Ask the user for input\n",
    "user_input = input(\"Enter a long string containing multiple words: \")\n",
    "\n",
    "# Call the function to reverse the words order\n",
    "reversed_string = reverse_words_order(user_input)\n",
    "\n",
    "# Print the reversed string\n",
    "print(\"Reversed string with words in backwards order:\")\n",
    "print(reversed_string)\n"
   ]
  },
  {
   "cell_type": "markdown",
   "id": "d69ba809",
   "metadata": {},
   "source": [
    "### Task_5"
   ]
  },
  {
   "cell_type": "markdown",
   "id": "059b3fe8",
   "metadata": {},
   "source": [
    "Write a recursive function to compute Ntn Fibonacci number. Test and trace for N = 6 is 8. We remember that a Fibonacci number can be recursively defined as:\n",
    "\n",
    "F(n)=F(n-1)+F(n-2)\"for\" n≥2, where F(0)=0,F(1)=1.\n",
    "\n"
   ]
  },
  {
   "cell_type": "code",
   "execution_count": 5,
   "id": "0b2c2fa1",
   "metadata": {},
   "outputs": [
    {
     "name": "stdout",
     "output_type": "stream",
     "text": [
      "The 6th Fibonacci number is: 8\n"
     ]
    }
   ],
   "source": [
    "def fibonacci(n):\n",
    "    if n <= 1:\n",
    "        return n\n",
    "    else:\n",
    "        return fibonacci(n-1) + fibonacci(n-2)\n",
    "\n",
    "# Test the function for N = 6\n",
    "n = 6\n",
    "result = fibonacci(n)\n",
    "\n",
    "# Print the result\n",
    "print(f\"The {n}th Fibonacci number is:\", result)\n"
   ]
  },
  {
   "cell_type": "markdown",
   "id": "eb836806",
   "metadata": {},
   "source": [
    "### Task_6"
   ]
  },
  {
   "cell_type": "markdown",
   "id": "142876fe",
   "metadata": {},
   "source": [
    "### Breadth First Search (BFS) Algorithm"
   ]
  },
  {
   "cell_type": "code",
   "execution_count": 6,
   "id": "12fa7d04",
   "metadata": {},
   "outputs": [],
   "source": [
    "graph = {\n",
    "    'A' : ['B', 'C'],\n",
    "    'B' : ['D', 'E'],\n",
    "    'C' : ['F'],\n",
    "    'D' : [],\n",
    "    'E' : ['F'],\n",
    "    'F' : [] \n",
    "}\n",
    "\n",
    "def bfs(graph, start):\n",
    "    queue, path = [start],[]\n",
    "    while queue:\n",
    "        vertex = queue.pop(0)\n",
    "        if vertex in path:\n",
    "            continue\n",
    "        path.append(vertex)\n",
    "        print(vertex)\n",
    "        for neighbour in graph[vertex]:\n",
    "            queue.append(neighbour)\n",
    "    return path"
   ]
  },
  {
   "cell_type": "code",
   "execution_count": 7,
   "id": "a28242f0",
   "metadata": {},
   "outputs": [
    {
     "name": "stdout",
     "output_type": "stream",
     "text": [
      "A\n",
      "B\n",
      "C\n",
      "D\n",
      "E\n",
      "F\n"
     ]
    },
    {
     "data": {
      "text/plain": [
       "['A', 'B', 'C', 'D', 'E', 'F']"
      ]
     },
     "execution_count": 7,
     "metadata": {},
     "output_type": "execute_result"
    }
   ],
   "source": [
    "bfs(graph,'A')"
   ]
  },
  {
   "cell_type": "code",
   "execution_count": null,
   "id": "ffe88890",
   "metadata": {},
   "outputs": [],
   "source": []
  },
  {
   "cell_type": "markdown",
   "id": "3b3ba1ab",
   "metadata": {},
   "source": [
    "### Depth First Search (DFS) Algorithm"
   ]
  },
  {
   "cell_type": "code",
   "execution_count": 8,
   "id": "a0f98d1f",
   "metadata": {},
   "outputs": [],
   "source": [
    "graph = {\n",
    "    'A' : ['B', 'C'],\n",
    "    'B' : ['D', 'E'],\n",
    "    'C' : ['F'],\n",
    "    'D' : [],\n",
    "    'E' : ['F'],\n",
    "    'F' : [] \n",
    "}\n",
    "\n",
    "def dfs(graph, start):\n",
    "    stack, path = [start],[]\n",
    "    while stack:\n",
    "        vertex = stack.pop()\n",
    "        if vertex in path:\n",
    "            continue\n",
    "        path.append(vertex)\n",
    "        print(vertex)\n",
    "        for neighbour in graph[vertex]:\n",
    "            stack.append(neighbour)\n",
    "    return path"
   ]
  },
  {
   "cell_type": "code",
   "execution_count": 9,
   "id": "aff51b14",
   "metadata": {},
   "outputs": [
    {
     "name": "stdout",
     "output_type": "stream",
     "text": [
      "A\n",
      "C\n",
      "F\n",
      "B\n",
      "E\n",
      "D\n"
     ]
    },
    {
     "data": {
      "text/plain": [
       "['A', 'C', 'F', 'B', 'E', 'D']"
      ]
     },
     "execution_count": 9,
     "metadata": {},
     "output_type": "execute_result"
    }
   ],
   "source": [
    "dfs(graph,'A')"
   ]
  },
  {
   "cell_type": "code",
   "execution_count": null,
   "id": "56e6d6f1",
   "metadata": {},
   "outputs": [],
   "source": []
  }
 ],
 "metadata": {
  "kernelspec": {
   "display_name": "Python 3 (ipykernel)",
   "language": "python",
   "name": "python3"
  },
  "language_info": {
   "codemirror_mode": {
    "name": "ipython",
    "version": 3
   },
   "file_extension": ".py",
   "mimetype": "text/x-python",
   "name": "python",
   "nbconvert_exporter": "python",
   "pygments_lexer": "ipython3",
   "version": "3.11.5"
  }
 },
 "nbformat": 4,
 "nbformat_minor": 5
}
